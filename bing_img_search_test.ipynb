{
  "cells": [
    {
      "cell_type": "markdown",
      "metadata": {
        "id": "G9kMNtqz8vxy"
      },
      "source": [
        "## 1. urllib 활용"
      ]
    },
    {
      "cell_type": "code",
      "execution_count": 31,
      "metadata": {
        "id": "YRWcMwablErt"
      },
      "outputs": [],
      "source": [
        "import requests as r\n",
        "import urllib.request as ur\n",
        "import os\n",
        "# import pandas as pd\n",
        "import time\n",
        "import pprint\n"
      ]
    },
    {
      "cell_type": "code",
      "execution_count": 3,
      "metadata": {
        "id": "Gtb05lJ-lKy0"
      },
      "outputs": [],
      "source": [
        "# 해당 디렉토리가 없으면 만드는 함수\n",
        "def createFolder(dir_name):\n",
        "    try:\n",
        "        if not os.path.exists(dir_name):\n",
        "            os.makedirs(dir_name)\n",
        "    except OSError:\n",
        "        print ('Error: Creating directory. ' +  dir_name)"
      ]
    },
    {
      "cell_type": "code",
      "execution_count": 4,
      "metadata": {
        "colab": {
          "base_uri": "https://localhost:8080/"
        },
        "id": "VftMTBPPlh5Y",
        "outputId": "46af9a21-652d-4f3f-b58a-d1baa26eea36"
      },
      "outputs": [],
      "source": [
        "# 쿼리를 요청할 검색어 리스트 만들거나 불러오기\n",
        "name_list = ['공모전']"
      ]
    },
    {
      "cell_type": "code",
      "execution_count": 47,
      "metadata": {
        "id": "CPP5ppjQ5sf1"
      },
      "outputs": [],
      "source": [
        "key1 = \" \" # Your bing API key\n",
        "endpoint = \"https://api.bing.microsoft.com/\" \n",
        "url  = f\"{endpoint}/v7.0/images/search\""
      ]
    },
    {
      "cell_type": "code",
      "execution_count": 53,
      "metadata": {},
      "outputs": [],
      "source": [
        "headers = {\n",
        "            \"Ocp-Apim-Subscription-Key\": key1\n",
        "        }\n",
        "param = {\n",
        "            \"q\": \"공모전\",\n",
        "            \"license\": \"public\",\n",
        "            \"imageType\": \"photo\", \n",
        "            \"safeSearch\": \"strict\"\n",
        "        }"
      ]
    },
    {
      "cell_type": "code",
      "execution_count": null,
      "metadata": {},
      "outputs": [],
      "source": []
    },
    {
      "cell_type": "code",
      "execution_count": 54,
      "metadata": {},
      "outputs": [
        {
          "ename": "HTTPError",
          "evalue": "404 Client Error: Resource Not Found for url: https://api.bing.microsoft.com/?q=ss&license=public&safeSearch=strict",
          "output_type": "error",
          "traceback": [
            "\u001b[0;31m---------------------------------------------------------------------------\u001b[0m",
            "\u001b[0;31mHTTPError\u001b[0m                                 Traceback (most recent call last)",
            "Cell \u001b[0;32mIn[54], line 2\u001b[0m\n\u001b[1;32m      1\u001b[0m response \u001b[38;5;241m=\u001b[39m r\u001b[38;5;241m.\u001b[39mget(endpoint, headers\u001b[38;5;241m=\u001b[39mheaders, params\u001b[38;5;241m=\u001b[39mparam)\n\u001b[0;32m----> 2\u001b[0m \u001b[43mresponse\u001b[49m\u001b[38;5;241;43m.\u001b[39;49m\u001b[43mraise_for_status\u001b[49m\u001b[43m(\u001b[49m\u001b[43m)\u001b[49m\n\u001b[1;32m      3\u001b[0m pprint\u001b[38;5;241m.\u001b[39mpprint(response\u001b[38;5;241m.\u001b[39mjson())\n",
            "File \u001b[0;32m~/Desktop/종합 설계/Dataset/.venv/lib/python3.11/site-packages/requests/models.py:1024\u001b[0m, in \u001b[0;36mResponse.raise_for_status\u001b[0;34m(self)\u001b[0m\n\u001b[1;32m   1019\u001b[0m     http_error_msg \u001b[38;5;241m=\u001b[39m (\n\u001b[1;32m   1020\u001b[0m         \u001b[38;5;124mf\u001b[39m\u001b[38;5;124m\"\u001b[39m\u001b[38;5;132;01m{\u001b[39;00m\u001b[38;5;28mself\u001b[39m\u001b[38;5;241m.\u001b[39mstatus_code\u001b[38;5;132;01m}\u001b[39;00m\u001b[38;5;124m Server Error: \u001b[39m\u001b[38;5;132;01m{\u001b[39;00mreason\u001b[38;5;132;01m}\u001b[39;00m\u001b[38;5;124m for url: \u001b[39m\u001b[38;5;132;01m{\u001b[39;00m\u001b[38;5;28mself\u001b[39m\u001b[38;5;241m.\u001b[39murl\u001b[38;5;132;01m}\u001b[39;00m\u001b[38;5;124m\"\u001b[39m\n\u001b[1;32m   1021\u001b[0m     )\n\u001b[1;32m   1023\u001b[0m \u001b[38;5;28;01mif\u001b[39;00m http_error_msg:\n\u001b[0;32m-> 1024\u001b[0m     \u001b[38;5;28;01mraise\u001b[39;00m HTTPError(http_error_msg, response\u001b[38;5;241m=\u001b[39m\u001b[38;5;28mself\u001b[39m)\n",
            "\u001b[0;31mHTTPError\u001b[0m: 404 Client Error: Resource Not Found for url: https://api.bing.microsoft.com/?q=ss&license=public&safeSearch=strict"
          ]
        }
      ],
      "source": [
        "response = r.get(url, headers=headers, params=param)\n",
        "response.raise_for_status()\n",
        "pprint.pprint(response.json())"
      ]
    },
    {
      "cell_type": "markdown",
      "metadata": {},
      "source": []
    },
    {
      "cell_type": "code",
      "execution_count": 30,
      "metadata": {
        "id": "Wvv3_-ib8ZQo"
      },
      "outputs": [],
      "source": [
        "def make_img_list(lst, apikey):\n",
        "    # 시작 시간 저장\n",
        "    start = time.time()\n",
        "    # 에러 로그 저장을 위한 리스트 만들기\n",
        "    error_log = []\n",
        "    # 주어진 리스트에 있는 모든 이름 검색\n",
        "    for item in lst:\n",
        "\n",
        "        # 폴더 만들고 경로 이동하기\n",
        "        base_dir = \"/Users/jincheol/Desktop/종합 설계/Dataset/bing search\"\n",
        "        if not os.path.exists(base_dir):\n",
        "            os.makedirs(base_dir)  # 경로가 없으면 생성\n",
        "\n",
        "        os.chdir(base_dir)\n",
        "        createFolder(item)\n",
        "        os.chdir(f\"./{item}\")\n",
        "\n",
        "        url = \"https://api.bing.microsoft.com/v7.0/images/search\"\n",
        "        #url = \"https://api.bing.microsoft.com/\"\n",
        "        headers = {\n",
        "            \"Ocp-Apim-Subscription-Key\": apikey\n",
        "        }\n",
        "        param = {\n",
        "            \"q\": item,\n",
        "            \"license\": \"public\",\n",
        "            \"count\": 500,\n",
        "            \"imageType\": \"Photo\",\n",
        "            \"minHeight\": 256,\n",
        "            \"safeSearch\": \"strict\",\n",
        "            \"color\": \"ColorOnly\"\n",
        "        }\n",
        "        s = r.Session()\n",
        "        response = s.get(url, headers=headers, params=param)\n",
        "        \n",
        "        # 응답 상태 코드 확인\n",
        "        if response.status_code != 200:\n",
        "            print(f\"Error: API request failed with status code {response.status_code}\")\n",
        "            continue\n",
        "        \n",
        "        test = response.json()\n",
        "        \n",
        "        # API 응답 디버깅 출력\n",
        "        print(\"API 응답:\", test)\n",
        "        \n",
        "        # 검색결과 링크에서 이미지 저장하기\n",
        "        if \"value\" in test:\n",
        "            for i in range(0, len(test.get(\"value\"))):\n",
        "                print(item, '-', i)\n",
        "                print(test.get('value')[i].get('contentUrl'))\n",
        "                file_name = f\"{item}_{i}.{test.get('value')[i].get('encodingFormat')}\"\n",
        "                try:\n",
        "                    ur.urlretrieve(test.get('value')[i].get('contentUrl'), file_name)\n",
        "                except Exception as e:\n",
        "                    print(e)\n",
        "                    error_log.append(f\"{file_name}: {e}\")\n",
        "                    pass\n",
        "        else:\n",
        "            print(f\"No images found for {item}\")\n",
        "        \n",
        "        os.chdir(\"../..\")\n",
        "    time_taken = time.time() - start\n",
        "    return time_taken, error_log"
      ]
    },
    {
      "cell_type": "code",
      "execution_count": 25,
      "metadata": {
        "colab": {
          "base_uri": "https://localhost:8080/"
        },
        "id": "2AxHwiqj8yj5",
        "outputId": "e8238267-fd96-4252-d55a-5238b85208b1"
      },
      "outputs": [
        {
          "name": "stdout",
          "output_type": "stream",
          "text": [
            "Error: API request failed with status code 401\n",
            "Error: API request failed with status code 401\n",
            "Error: API request failed with status code 401\n"
          ]
        },
        {
          "data": {
            "text/plain": [
              "(0.6941008567810059, [])"
            ]
          },
          "execution_count": 25,
          "metadata": {},
          "output_type": "execute_result"
        }
      ],
      "source": [
        "make_img_list(name_list, key1)"
      ]
    },
    {
      "cell_type": "code",
      "execution_count": 58,
      "metadata": {},
      "outputs": [],
      "source": [
        "from azure.cognitiveservices.search.imagesearch import ImageSearchClient\n",
        "from msrest.authentication import CognitiveServicesCredentials"
      ]
    },
    {
      "cell_type": "code",
      "execution_count": 66,
      "metadata": {},
      "outputs": [],
      "source": [
        "subscription_key = \"bec27c152ce34c95a902e517abe1722b\"\n",
        "subscription_endpoint = \"https://api.bing.microsoft.com/\"\n",
        "search_term = \"공모전\" "
      ]
    },
    {
      "cell_type": "code",
      "execution_count": 67,
      "metadata": {},
      "outputs": [],
      "source": [
        "client = ImageSearchClient(endpoint=subscription_endpoint, credentials=CognitiveServicesCredentials(subscription_key))"
      ]
    },
    {
      "cell_type": "code",
      "execution_count": 68,
      "metadata": {},
      "outputs": [
        {
          "ename": "ErrorResponseException",
          "evalue": "Operation returned an invalid status code 'Resource Not Found'",
          "output_type": "error",
          "traceback": [
            "\u001b[0;31m---------------------------------------------------------------------------\u001b[0m",
            "\u001b[0;31mErrorResponseException\u001b[0m                    Traceback (most recent call last)",
            "Cell \u001b[0;32mIn[68], line 1\u001b[0m\n\u001b[0;32m----> 1\u001b[0m image_results \u001b[38;5;241m=\u001b[39m \u001b[43mclient\u001b[49m\u001b[38;5;241;43m.\u001b[39;49m\u001b[43mimages\u001b[49m\u001b[38;5;241;43m.\u001b[39;49m\u001b[43msearch\u001b[49m\u001b[43m(\u001b[49m\u001b[43mquery\u001b[49m\u001b[38;5;241;43m=\u001b[39;49m\u001b[43msearch_term\u001b[49m\u001b[43m)\u001b[49m\n\u001b[1;32m      2\u001b[0m \u001b[38;5;28;01mif\u001b[39;00m image_results\u001b[38;5;241m.\u001b[39mvalue:\n\u001b[1;32m      3\u001b[0m     first_image_result \u001b[38;5;241m=\u001b[39m image_results\u001b[38;5;241m.\u001b[39mvalue[\u001b[38;5;241m0\u001b[39m]\n",
            "File \u001b[0;32m~/Desktop/종합 설계/Dataset/.venv/lib/python3.11/site-packages/azure/cognitiveservices/search/imagesearch/operations/_images_operations.py:491\u001b[0m, in \u001b[0;36mImagesOperations.search\u001b[0;34m(self, query, accept_language, user_agent, client_id, client_ip, location, aspect, color, country_code, count, freshness, height, id, image_content, image_type, license, market, max_file_size, max_height, max_width, min_file_size, min_height, min_width, offset, safe_search, size, set_lang, width, custom_headers, raw, **operation_config)\u001b[0m\n\u001b[1;32m    488\u001b[0m response \u001b[38;5;241m=\u001b[39m \u001b[38;5;28mself\u001b[39m\u001b[38;5;241m.\u001b[39m_client\u001b[38;5;241m.\u001b[39msend(request, stream\u001b[38;5;241m=\u001b[39m\u001b[38;5;28;01mFalse\u001b[39;00m, \u001b[38;5;241m*\u001b[39m\u001b[38;5;241m*\u001b[39moperation_config)\n\u001b[1;32m    490\u001b[0m \u001b[38;5;28;01mif\u001b[39;00m response\u001b[38;5;241m.\u001b[39mstatus_code \u001b[38;5;129;01mnot\u001b[39;00m \u001b[38;5;129;01min\u001b[39;00m [\u001b[38;5;241m200\u001b[39m]:\n\u001b[0;32m--> 491\u001b[0m     \u001b[38;5;28;01mraise\u001b[39;00m models\u001b[38;5;241m.\u001b[39mErrorResponseException(\u001b[38;5;28mself\u001b[39m\u001b[38;5;241m.\u001b[39m_deserialize, response)\n\u001b[1;32m    493\u001b[0m deserialized \u001b[38;5;241m=\u001b[39m \u001b[38;5;28;01mNone\u001b[39;00m\n\u001b[1;32m    494\u001b[0m \u001b[38;5;28;01mif\u001b[39;00m response\u001b[38;5;241m.\u001b[39mstatus_code \u001b[38;5;241m==\u001b[39m \u001b[38;5;241m200\u001b[39m:\n",
            "\u001b[0;31mErrorResponseException\u001b[0m: Operation returned an invalid status code 'Resource Not Found'"
          ]
        }
      ],
      "source": [
        "image_results = client.images.search(query=search_term)\n",
        "if image_results.value:\n",
        "    first_image_result = image_results.value[0]\n",
        "    print(\"Total number of images returned: {}\".format(len(image_results.value)))\n",
        "    print(\"First image thumbnail url: {}\".format(\n",
        "        first_image_result.thumbnail_url))\n",
        "    print(\"First image content url: {}\".format(first_image_result.content_url))\n",
        "else:\n",
        "    print(\"No image results returned!\")"
      ]
    },
    {
      "cell_type": "code",
      "execution_count": null,
      "metadata": {},
      "outputs": [],
      "source": []
    }
  ],
  "metadata": {
    "colab": {
      "collapsed_sections": [],
      "name": "bing_img_search_test.ipynb",
      "provenance": []
    },
    "kernelspec": {
      "display_name": "Python 3",
      "name": "python3"
    },
    "language_info": {
      "codemirror_mode": {
        "name": "ipython",
        "version": 3
      },
      "file_extension": ".py",
      "mimetype": "text/x-python",
      "name": "python",
      "nbconvert_exporter": "python",
      "pygments_lexer": "ipython3",
      "version": "3.11.5"
    }
  },
  "nbformat": 4,
  "nbformat_minor": 0
}
